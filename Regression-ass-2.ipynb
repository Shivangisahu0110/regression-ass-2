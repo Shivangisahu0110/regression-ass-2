{
 "cells": [
  {
   "cell_type": "markdown",
   "id": "f5efac97-57a5-4f2a-ad1d-7aa33625fde5",
   "metadata": {},
   "source": [
    "Q1. Explain the concept of R-squared in linear regression models. How is it calculated, and what does it\n",
    "represent?"
   ]
  },
  {
   "cell_type": "markdown",
   "id": "4ef194cc-2421-482d-8bd1-513d77accc3d",
   "metadata": {},
   "source": [
    "R-squared, also known as the coefficient of determination, is a statistical measure used in linear regression models to assess the goodness of fit of the model. It indicates how well the independent variables (predictors) \n",
    "\n",
    "Concept of R-squared\n",
    "\n",
    "R-squared represents the proportion of the variance in the dependent variable that is predictable from the independent variables. It provides an indication of the model's explanatory power.\n",
    "\n",
    "Value Range: R-squared values range from 0 to 1.\n",
    "\n",
    "0: Indicates that the model does not explain any of the variance in the dependent variable.\n",
    "\n",
    "1: Indicates that the model explains all the variance in the dependent variable.\n",
    "\n",
    "Values between 0 and 1 indicate the proportion of the variance explained by the model."
   ]
  },
  {
   "cell_type": "markdown",
   "id": "6cff1982-8455-45ab-a606-60aa3b5a3cd1",
   "metadata": {},
   "source": [
    "                   R^2 =1−(SSR/SST)\n",
    "\n",
    "SSR = sum of square residuals\n",
    "\n",
    "SST = sum of total squares"
   ]
  },
  {
   "cell_type": "code",
   "execution_count": null,
   "id": "b0c0dad8-99cb-4db9-ad03-3d35f2884637",
   "metadata": {},
   "outputs": [],
   "source": [
    "Steps to Calculate R-squared\n",
    "Calculate the Total Sum of Squares (SS_tot):\n",
    "𝑆𝑆tot = ∑ (𝑦𝑖−𝑦ˉ)^2\n",
    "\n",
    "𝑦𝑖 are the observed values.\n",
    "\n",
    "𝑦ˉ is the mean of the observed values.\n",
    "\n",
    "Calculate the Residual Sum of Squares (SS_res):\n",
    "\n",
    "SSres =∑(yi −yi^)2\n",
    "\n",
    "yi^ are the predicted values from the regression model.\n"
   ]
  },
  {
   "cell_type": "markdown",
   "id": "b471cb11-02a1-4994-8f14-bfd4d653d654",
   "metadata": {},
   "source": [
    "Q2. Define adjusted R-squared and explain how it differs from the regular R-squared."
   ]
  },
  {
   "cell_type": "markdown",
   "id": "dfbb68db-5e0b-4415-91ce-fa51f037dd2a",
   "metadata": {},
   "source": [
    "Adjusted R-squared adjusts the regular R-squared value by taking into account the number of predictors (independent variables) in the model and the sample size. This adjustment penalizes the addition of irrelevant predictors and helps prevent overfitting.\n",
    "\n",
    "# Adjusted r square\n",
    "  Adjusted R2 = 1 – [(1-R2)*(n-1)/(n-k-1)]\n",
    "  \n",
    "R^2 is the regular R-squared.\n",
    "\n",
    "n is the number of observations (sample size).\n",
    "\n",
    "k is the number of predictors (independent variables)."
   ]
  },
  {
   "cell_type": "markdown",
   "id": "54902901-a38c-4901-a71c-8514e817d2a0",
   "metadata": {},
   "source": [
    "# Key Differences Between R-squared and Adjusted R-squared\n",
    " Penalization for Additional Predictors:\n",
    "\n",
    "R-squared: Increases (or at least does not decrease) when more predictors are added, even if those predictors are not significant. This can lead to overfitting.\n",
    "\n",
    "Adjusted R-squared: Increases only if the new predictor improves the model more than would be expected by chance. It decreases when adding predictors that do not improve the model significantly.\n",
    "\n",
    "Interpretation:\n",
    "\n",
    "R-squared: Represents the proportion of variance explained by the model without adjusting for the number of predictors. It can be overly optimistic in models with many predictors.\n",
    "\n",
    "Adjusted R-squared: Provides a more reliable measure by adjusting for the number of predictors, giving a better indication of the model's explanatory power when comparing models with different numbers of predictors.\n",
    "\n",
    "Application:\n",
    "\n",
    "R-squared: Useful for simple models or when comparing models with the same number of predictors.\n",
    "\n",
    "Adjusted R-squared: Preferred when comparing models with different numbers of predictors as it accounts for model complexity."
   ]
  },
  {
   "cell_type": "markdown",
   "id": "de4b57c4-890a-4ede-9803-56ae3dab6577",
   "metadata": {},
   "source": [
    "Q3. When is it more appropriate to use adjusted R-squared?"
   ]
  },
  {
   "cell_type": "markdown",
   "id": "d73a4e3d-84c9-45b8-9370-26c7a72d77df",
   "metadata": {},
   "source": [
    "Adjusted R-squared is more appropriate than regular R-squared in situations involving multiple predictors, model comparison, feature selection, and smaller sample sizes. It provides a more accurate and reliable measure of a model's goodness of fit by penalizing the inclusion of irrelevant variables and helping to prevent overfitting.\n",
    "\n",
    "Adjusted R-squared is more appropriate to use in the following situations:\n",
    "\n",
    "1. Multiple Regression Models\n",
    "2. Model Comparison\n",
    "3. Avoiding Overfitting\n",
    "4. Model Selection in Feature Engineering\n",
    "5. Evaluating the Impact of Adding New Predictors\n",
    "6. Smaller Sample Sizes"
   ]
  },
  {
   "cell_type": "markdown",
   "id": "b981d5fd-e9ce-497c-82bc-91a8a49c7618",
   "metadata": {},
   "source": [
    "Q4. What are RMSE, MSE, and MAE in the context of regression analysis? How are these metrics\n",
    "calculated, and what do they represent?"
   ]
  },
  {
   "cell_type": "markdown",
   "id": "2b5ee07f-c203-49ac-9e01-18494b892465",
   "metadata": {},
   "source": [
    "1. Mean Squared Error (MSE)\n",
    "\n",
    "Definition: MSE is the average of the squared differences between the predicted values and the actual values. It measures the average squared difference between the estimated values and the actual value.\n",
    "\n",
    "Formula:\n",
    "MSE = 1/𝑛 ∑ (𝑦𝑖−𝑦i^)2\n",
    "\n",
    "2. Root Mean Squared Error (RMSE)\n",
    "\n",
    "Definition: RMSE is the square root of the MSE. It provides the error metric in the same unit as the dependent variable, making it easier to interpret.\n",
    "\n",
    "Formula:\n",
    "MSE = sqrt 1/𝑛 ∑ (𝑦𝑖−𝑦i^)2\n",
    "\n",
    "3. Mean Absolute Error (MAE)\n",
    "Definition: MAE is the average of the absolute differences between the predicted values and the actual values. It measures the average magnitude of the errors without considering their direction (i.e., it treats all errors equally).\n",
    "\n",
    "MAE = 1/𝑛 ∑ |𝑦𝑖−𝑦i^|\n",
    "\n",
    "\n",
    "Where:\n",
    "\n",
    "n is the number of observations.\n",
    "\n",
    "yi is the actual value.\n",
    "\n",
    "𝑦i^ is the predicted value.\n"
   ]
  },
  {
   "cell_type": "markdown",
   "id": "2369c656-6888-4497-bc1e-f8763210aea8",
   "metadata": {},
   "source": [
    "MSE: Measures the average squared error. Sensitive to outliers. Lower values indicate better model fit.\n",
    "\n",
    "RMSE: Square root of MSE. Directly interpretable in terms of the dependent variable. Sensitive to outliers. Lower values\n",
    "indicate better model fit.\n",
    "\n",
    "MAE: Measures the average absolute error. Less sensitive to outliers. Lower values indicate better model fit."
   ]
  },
  {
   "cell_type": "markdown",
   "id": "ba2a9f14-0e5b-4608-b449-77eedde088a7",
   "metadata": {},
   "source": [
    "Q6. Explain the concept of Lasso regularization. How does it differ from Ridge regularization, and when is\n",
    "it more appropriate to use?"
   ]
  },
  {
   "cell_type": "markdown",
   "id": "f96beabc-1c37-4a60-9a9e-5e22fad95c29",
   "metadata": {},
   "source": [
    "Lasso regularization (Least Absolute Shrinkage and Selection Operator) is a technique used in regression models to prevent overfitting by penalizing the absolute size of the regression coefficients. It is particularly useful when you have a large number of predictors, and you want to enhance model interpretability by performing variable selection."
   ]
  },
  {
   "cell_type": "markdown",
   "id": "be0b105d-72fd-417c-a86c-ceaf96158de6",
   "metadata": {},
   "source": [
    "Concept of Lasso Regularization\n",
    "Lasso regularization adds a penalty equivalent to the sum of the absolute values of the coefficients (L1 norm) to the loss function. The objective function for Lasso regression is:\n",
    "\n",
    "Minimize ( 1/2n ∑(yi - yi^)2  +λ∑|βj|\n",
    "\n",
    "Where:\n",
    "\n",
    "yi are the actual values.\n",
    "\n",
    "𝑦i^ are the predicted values.\n",
    "\n",
    "βj are the regression coefficients.\n",
    "\n",
    "λ is the regularization parameter that controls the strength of the penalty.\n",
    "\n",
    "n is the number of observations.\n",
    "    \n",
    "p is the number of predictors.\n"
   ]
  },
  {
   "cell_type": "markdown",
   "id": "fbf02648-2010-405b-b9a1-1789ff380491",
   "metadata": {},
   "source": [
    "Difference from Ridge Regularization\n",
    "While both Lasso and Ridge regularization aim to prevent overfitting by penalizing large coefficients, they differ in the type of penalty used:\n",
    "\n",
    "1. Penalty Type:\n",
    "\n",
    "Lasso: Uses L1 norm (sum of absolute values of the coefficients).\n",
    "   λ∑ |βj|\n",
    "\n",
    "Ridge: Uses L2 norm (sum of squared values of the coefficients).\n",
    "   λ∑ βj^2\n",
    "   \n",
    "2. Effect on Coefficients:\n",
    "\n",
    "Lasso: Can shrink some coefficients to exactly zero, resulting in sparse models that perform variable selection.\n",
    "\n",
    "Ridge: Shrinks all coefficients but does not set any coefficient exactly to zero, hence it does not perform variable selection.\n",
    "\n",
    "3. Use Cases:\n",
    "\n",
    "Lasso: More appropriate when you suspect that many of the predictors are irrelevant or when you want a simpler, more interpretable model.\n",
    "\n",
    "Ridge: More appropriate when you believe that most predictors contribute to the outcome and you want to address multicollinearity without excluding any predictors.\n",
    "\n",
    "\n",
    "\n",
    " Lasso is particularly appropriate in situations with high-dimensional data, where model simplicity and interpretability are important."
   ]
  },
  {
   "cell_type": "markdown",
   "id": "41aaa7ee-876c-4acf-9bea-9721e86636ad",
   "metadata": {},
   "source": [
    "Q7. How do regularized linear models help to prevent overfitting in machine learning? Provide an\n",
    "example to illustrate."
   ]
  },
  {
   "cell_type": "markdown",
   "id": "d1e0fe1e-83ea-42c3-9160-e1e7b3fd7cbd",
   "metadata": {},
   "source": [
    "How Regularization Prevents Overfitting\n",
    "\n",
    "Overfitting occurs when a model learns not only the underlying pattern in the training data but also the noise, leading to poor performance on new, unseen data. Regularization techniques mitigate this by:\n",
    "\n",
    "Constraining Coefficients: By adding a penalty term to the loss function, regularization forces the model to keep the coefficients small, thereby reducing the risk of fitting to the noise.\n",
    "\n",
    "Bias-Variance Trade-off: Regularization increases the bias slightly but significantly reduces the variance, leading to a more robust model that performs well on new data.\n",
    "\n",
    "Types of Regularization\n",
    "\n",
    "1. Ridge Regularization (L2 Regularization):\n",
    "2. Lasso Regularization (L1 Regularization):\n",
    "\n"
   ]
  },
  {
   "cell_type": "markdown",
   "id": "8870ea52-2065-446a-85d0-35ec7f0f9f1c",
   "metadata": {},
   "source": [
    "Example to Illustrate Regularization\n",
    "\n",
    "Consider a dataset with a large number of features but only a few observations. For simplicity, assume you have 10 features (X1, X2, ..., X10) and only 15 observations (n = 15).\n",
    "\n",
    "Without Regularization:\n",
    "\n",
    "Fit an ordinary least squares (OLS) regression model.\n",
    "The model may perfectly fit the training data but perform poorly on test data due to overfitting.\n",
    "\n",
    "\n",
    "With Regularization:\n",
    "\n",
    "Ridge Regression:\n",
    "\n",
    "Apply Ridge regression to the same dataset.\n",
    "\n",
    "The Ridge model will have a penalty on the magnitude of the coefficients, leading to smaller coefficients.\n",
    "As a result, the model fits the data with reduced complexity and generalizes better to new data.\n",
    "\n",
    "Lasso Regression:\n",
    "\n",
    "Apply Lasso regression to the same dataset.\n",
    "\n",
    "The Lasso model will not only shrink the coefficients but can also set some of them to exactly zero.\n",
    "This results in a sparse model where only the most important features are retained, further improving generalization."
   ]
  },
  {
   "cell_type": "markdown",
   "id": "b3230a79-69c4-420c-b065-b1a87ef9de6c",
   "metadata": {},
   "source": [
    "Q8. Discuss the limitations of regularized linear models and explain why they may not always be the best\n",
    "choice for regression analysis."
   ]
  },
  {
   "cell_type": "markdown",
   "id": "b2cca73f-9fa7-4722-87cb-60e7125b9d08",
   "metadata": {},
   "source": [
    "While regularized linear models, such as Ridge and Lasso regression, are powerful tools for improving model generalization and handling multicollinearity, they have several limitations and may not always be the best choice for regression analysis. Here are some key limitations:\n",
    "\n",
    "Limitations of Regularized Linear Models\n",
    "\n",
    "Assumption of Linearity:\n",
    "\n",
    "Limitation: Regularized linear models assume a linear relationship between the independent and dependent variables. If the true relationship is non-linear, these models may not perform well.\n",
    "\n",
    "Implication: In cases where the relationship between variables is complex and non-linear, non-linear models (e.g., decision trees, random forests, neural networks) may provide better performance.\n",
    "\n",
    "Feature Scaling:\n",
    "\n",
    "Limitation: Regularized linear models are sensitive to the scale of the features. Features with larger scales can dominate the penalty term, leading to biased coefficients.\n",
    "\n",
    "Implication: It is necessary to standardize or normalize features before applying regularization, which adds an additional preprocessing step.\n",
    "\n",
    "Interpretability:\n",
    "\n",
    "Limitation: While Lasso can produce sparse models by setting some coefficients to zero, the interpretation of the remaining coefficients can still be challenging, especially in high-dimensional spaces.\n",
    "\n",
    "Implication: For models where interpretability is crucial, simpler models like decision trees or linear models without regularization might be preferred.\n",
    "\n",
    "Choice of Regularization Parameter (λ):\n",
    "\n",
    "Limitation: Selecting the optimal regularization parameter (λ) is crucial for model performance. This typically requires techniques like cross-validation, which can be computationally expensive and time-consuming.\n",
    "\n",
    "Implication: The model's performance is highly dependent on the choice of λ, and improper selection can lead to underfitting (if λ is too large) or overfitting (if λ is too small).\n",
    "\n",
    "Collinearity Issues:\n",
    "\n",
    "Limitation: Regularized linear models can mitigate but not entirely eliminate issues related to collinearity among predictors. Ridge regression reduces the impact of collinearity but does not perform variable selection, while Lasso can struggle when predictors are highly correlated.\n",
    "\n",
    "Implication: In cases of severe multicollinearity, other techniques like Principal Component Analysis (PCA) or Partial Least Squares (PLS) regression may be more effective.\n",
    "\n",
    "Sparse Data:\n",
    "\n",
    "Limitation: Lasso regression might perform poorly with very sparse data or when the number of predictors is much larger than the number of observations, as it can aggressively shrink coefficients to zero, possibly excluding important variables.\n",
    "\n",
    "Implication: Alternative methods like Elastic Net, which combines Lasso and Ridge penalties, might be more suitable for sparse datasets.\n",
    "\n",
    "Computational Complexity:\n",
    "\n",
    "Limitation: Regularized linear models can be computationally intensive, especially with large datasets and complex cross-validation procedures for parameter tuning.\n",
    "\n",
    "Implication: In scenarios requiring real-time predictions or involving very large datasets, simpler models or efficient algorithms like stochastic gradient descent might be preferred."
   ]
  },
  {
   "cell_type": "markdown",
   "id": "d765bb93-28d6-4e57-822e-cd834a549611",
   "metadata": {},
   "source": [
    "Q9. You are comparing the performance of two regression models using different evaluation metrics.\n",
    "Model A has an RMSE of 10, while Model B has an MAE of 8. Which model would you choose as the better\n",
    "performer, and why? Are there any limitations to your choice of metric?"
   ]
  },
  {
   "cell_type": "markdown",
   "id": "d175eccf-0d5b-4fdd-b28d-bfa1d84d7d22",
   "metadata": {},
   "source": [
    "Model B (with an MAE of 8) might be preferred if the goal is to have a model with consistently lower average errors and if the impact of large errors is not disproportionately high.\n",
    "\n",
    "Model A (with an RMSE of 10) might be preferred if the goal is to minimize the impact of large errors, assuming that larger deviations are particularly undesirable."
   ]
  },
  {
   "cell_type": "markdown",
   "id": "92691ac7-dfdf-4bfe-9a9c-10a9747d32b3",
   "metadata": {},
   "source": [
    "Limitations of Metrics\n",
    "\n",
    "RMSE Limitations:\n",
    "\n",
    "Overemphasizes large errors, which might be misleading if the application can tolerate occasional large errors.\n",
    "\n",
    "Can be influenced significantly by outliers, which may not be representative of typical model performance.\n",
    "\n",
    "\n",
    "MAE Limitations:\n",
    "\n",
    "Does not differentiate between large and small errors, treating them all equally, which might be misleading if large errors have more significant impacts."
   ]
  },
  {
   "cell_type": "markdown",
   "id": "8f7694c7-e13c-420d-80a3-215e3dad58b5",
   "metadata": {},
   "source": [
    "Q10. You are comparing the performance of two regularized linear models using different types of\n",
    "regularization. Model A uses Ridge regularization with a regularization parameter of 0.1, while Model B\n",
    "uses Lasso regularization with a regularization parameter of 0.5. Which model would you choose as the\n",
    "better performer, and why? Are there any trade-offs or limitations to your choice of regularization\n",
    "method?"
   ]
  },
  {
   "cell_type": "markdown",
   "id": "ff25580c-0b21-4d66-b6e4-ce6e2c4c32c6",
   "metadata": {},
   "source": [
    "Assume you have evaluated both models on the same dataset and obtained the following metrics:\n",
    "\n",
    "Model A (Ridge, 𝜆 =0.1):\n",
    "\n",
    "RMSE: 8.5\n",
    "\n",
    "MAE: 6.8\n",
    "\n",
    "R-squared: 0.85\n",
    "\n",
    "\n",
    "Model B (Lasso, 𝜆 =0.5):\n",
    "\n",
    "RMSE: 9.0\n",
    "\n",
    "MAE: 7.2\n",
    "\n",
    "R-squared: 0.82\n",
    "\n",
    "Based on these metrics, Model A appears to perform slightly better in terms of prediction accuracy (lower RMSE and MAE, higher R-squared). However, the choice between these models should also consider the specific context and goals:"
   ]
  },
  {
   "cell_type": "markdown",
   "id": "18d73d0b-f69a-4b7d-9cfd-ccfac15eb9c9",
   "metadata": {},
   "source": [
    "Trade-offs and Limitations\n",
    "\n",
    "Interpretability:\n",
    "\n",
    "Model A (Ridge) retains all features, which might make the model less interpretable if you have many predictors.\n",
    "\n",
    "Model B (Lasso) performs feature selection, resulting in a more interpretable model if many coefficients are zeroed out.\n",
    "\n",
    "Handling Multicollinearity:\n",
    "\n",
    "Model A (Ridge) is better suited for handling multicollinearity as it penalizes the sum of squared coefficients, spreading the penalty across correlated features.\n",
    "\n",
    "Model B (Lasso) might struggle with multicollinearity, potentially dropping some correlated predictors.\n",
    "\n",
    "Model Complexity:\n",
    "\n",
    "Model A (Ridge) maintains a more complex model with all predictors.\n",
    "\n",
    "Model B (Lasso) results in a simpler model with potentially fewer predictors, aiding interpretability and possibly reducing overfitting.\n",
    "\n",
    "Regularization Parameter Choice:\n",
    "\n",
    "The choice of λ significantly affects model performance. It’s crucial to ensure λ=0.1 for Ridge and λ=0.5 for Lasso are optimal through cross-validation."
   ]
  },
  {
   "cell_type": "code",
   "execution_count": null,
   "id": "81de971c-45f4-49a7-90c3-fef5cc21ea1b",
   "metadata": {},
   "outputs": [],
   "source": []
  }
 ],
 "metadata": {
  "kernelspec": {
   "display_name": "Python 3 (ipykernel)",
   "language": "python",
   "name": "python3"
  },
  "language_info": {
   "codemirror_mode": {
    "name": "ipython",
    "version": 3
   },
   "file_extension": ".py",
   "mimetype": "text/x-python",
   "name": "python",
   "nbconvert_exporter": "python",
   "pygments_lexer": "ipython3",
   "version": "3.10.8"
  }
 },
 "nbformat": 4,
 "nbformat_minor": 5
}
